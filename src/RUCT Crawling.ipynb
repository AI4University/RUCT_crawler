{
 "cells": [
  {
   "cell_type": "code",
   "execution_count": 1,
   "id": "3d27a95a",
   "metadata": {},
   "outputs": [],
   "source": [
    "from info_titul import DatosWeb\n",
    "import requests\n",
    "from bs4 import BeautifulSoup\n",
    "import pandas as pd\n",
    "import json\n",
    "import urllib3\n",
    "\n",
    "\n",
    "urllib3.disable_warnings(urllib3.exceptions.InsecureRequestWarning)\n"
   ]
  },
  {
   "cell_type": "markdown",
   "id": "38d6f7b8",
   "metadata": {},
   "source": [
    "### Proving the library step-by-step"
   ]
  },
  {
   "cell_type": "markdown",
   "id": "824ad9e4",
   "metadata": {},
   "source": [
    "#### 1. 'get_basic_data' function"
   ]
  },
  {
   "cell_type": "code",
   "execution_count": 42,
   "id": "867d4c29",
   "metadata": {},
   "outputs": [],
   "source": [
    "url_base = \"https://www.educacion.gob.es/ruct/solicitud/detalles.action?cod=codigoin&sit=A&actual=menu.solicitud.basicos\"\n",
    "variable = DatosWeb.get_basic_data(url_base, \"25000302008052801\")"
   ]
  },
  {
   "cell_type": "code",
   "execution_count": 43,
   "id": "5aed0467",
   "metadata": {
    "scrolled": true
   },
   "outputs": [
    {
     "data": {
      "text/html": [
       "<div>\n",
       "<style scoped>\n",
       "    .dataframe tbody tr th:only-of-type {\n",
       "        vertical-align: middle;\n",
       "    }\n",
       "\n",
       "    .dataframe tbody tr th {\n",
       "        vertical-align: top;\n",
       "    }\n",
       "\n",
       "    .dataframe thead th {\n",
       "        text-align: right;\n",
       "    }\n",
       "</style>\n",
       "<table border=\"1\" class=\"dataframe\">\n",
       "  <thead>\n",
       "    <tr style=\"text-align: right;\">\n",
       "      <th></th>\n",
       "      <th>Nombre</th>\n",
       "      <th>Conjunto</th>\n",
       "      <th>Rama</th>\n",
       "      <th>Habilita</th>\n",
       "      <th>Vinculacion</th>\n",
       "      <th>Codigo de Agencia</th>\n",
       "    </tr>\n",
       "  </thead>\n",
       "  <tbody>\n",
       "    <tr>\n",
       "      <th>25000302008052801</th>\n",
       "      <td>Graduado o Graduada en Administración de Empre...</td>\n",
       "      <td>No</td>\n",
       "      <td>Ciencias Sociales y Jurídicas</td>\n",
       "      <td>No</td>\n",
       "      <td>No</td>\n",
       "      <td>Agencia Nacional de Evaluación de la Calidad y...</td>\n",
       "    </tr>\n",
       "  </tbody>\n",
       "</table>\n",
       "</div>"
      ],
      "text/plain": [
       "                                                              Nombre Conjunto  \\\n",
       "25000302008052801  Graduado o Graduada en Administración de Empre...       No   \n",
       "\n",
       "                                            Rama Habilita Vinculacion  \\\n",
       "25000302008052801  Ciencias Sociales y Jurídicas       No          No   \n",
       "\n",
       "                                                   Codigo de Agencia  \n",
       "25000302008052801  Agencia Nacional de Evaluación de la Calidad y...  "
      ]
     },
     "execution_count": 43,
     "metadata": {},
     "output_type": "execute_result"
    }
   ],
   "source": [
    "variable"
   ]
  },
  {
   "cell_type": "markdown",
   "id": "ad2f1bc9",
   "metadata": {},
   "source": [
    "#### 2. 'get_year function"
   ]
  },
  {
   "cell_type": "code",
   "execution_count": 5,
   "id": "d0a5f2ba",
   "metadata": {},
   "outputs": [],
   "source": [
    "# La URL base corresponde a la pantalla de 'Calendario de Implantación'.\n",
    "url_base = \"https://www.educacion.gob.es/ruct/solicitud/calendarioImplantacion!cronograma?actual=menu.solicitud.calendarioImplantacion.cronograma&cod=codigoin\"\n",
    "variable2 = DatosWeb.get_year(url_base, \"25006612023052201\")"
   ]
  },
  {
   "cell_type": "code",
   "execution_count": 6,
   "id": "fe150ff2",
   "metadata": {},
   "outputs": [
    {
     "data": {
      "text/plain": [
       "{'25006612023052201': '2009'}"
      ]
     },
     "execution_count": 6,
     "metadata": {},
     "output_type": "execute_result"
    }
   ],
   "source": [
    "variable2"
   ]
  },
  {
   "cell_type": "markdown",
   "id": "f3c405f1",
   "metadata": {},
   "source": [
    "#### 3. 'get_competencies' function"
   ]
  },
  {
   "cell_type": "code",
   "execution_count": 44,
   "id": "453802a9",
   "metadata": {},
   "outputs": [],
   "source": [
    "url_base = \"https://www.educacion.gob.es/ruct/solicitud/competencias?actual=menu.solicitud.competencias.palabratipocomp&tipo=tipodecomp&cod=codigoin\"\n",
    "variable3 = DatosWeb.get_competencies(url_base, \"25006612023052201\",\"Compentencias Generales\")"
   ]
  },
  {
   "cell_type": "code",
   "execution_count": 45,
   "id": "5b453fd5",
   "metadata": {
    "scrolled": true
   },
   "outputs": [
    {
     "data": {
      "text/plain": [
       "{'25006612023052201': ['Que los estudiantes hayan demostrado poseer y comprender conocimientos en un área de estudio que parte de la base de la educación secundaria general, y se suele encontrar a un nivel que, si bien se apoya en libros de texto avanzados, incluye también algunos aspectos que implican conocimientos procedentes de la vanguardia de su campo de estudio',\n",
       "  'Que los estudiantes sepan aplicar sus conocimientos a su trabajo o vocación de una forma profesional y posean las competencias que suelen demostrarse por medio de la elaboración y defensa de argumentos y la resolución de problemas dentro de su área de estudio',\n",
       "  'Que los estudiantes tengan la capacidad de reunir e interpretar datos relevantes (normalmente dentro de su área de estudio) para emitir juicios que incluyan una reflexión sobre temas relevantes de índole social, científica o ética',\n",
       "  'Que los estudiantes puedan transmitir información, ideas, problemas y soluciones a un público tanto especializado como no especializado',\n",
       "  'Que los estudiantes hayan desarrollado aquellas habilidades de aprendizaje necesarias para emprender estudios posteriores con un alto grado de autonomía']}"
      ]
     },
     "execution_count": 45,
     "metadata": {},
     "output_type": "execute_result"
    }
   ],
   "source": [
    "variable3"
   ]
  },
  {
   "cell_type": "markdown",
   "id": "a54c5f5b",
   "metadata": {},
   "source": [
    "#### 4. 'get_info' function"
   ]
  },
  {
   "cell_type": "code",
   "execution_count": 47,
   "id": "85ab6b84",
   "metadata": {},
   "outputs": [],
   "source": [
    "url_base_sistemasdeformacion = \"https://www.educacion.gob.es/ruct/solicitud/sistemas?actual=menu.solicitud.planificacion.sistemas&cod=codigoin\"\n",
    "url_base_actividades = \"https://www.educacion.gob.es/ruct/solicitud/actividades?actual=menu.solicitud.planificacion.actividades&cod=codigoin\"\n",
    "url_base_metodologias = \"https://www.educacion.gob.es/ruct/solicitud/metodologias?actual=menu.solicitud.planificacion.metodologias&cod=codigoin\"\n",
    "\n",
    "variable4 = DatosWeb.get_info(url_base_sistemasdeformacion, \"25006612023052201\")\n",
    "variable5 = DatosWeb.get_info(url_base_actividades, \"25006612023052201\")\n",
    "variable6 = DatosWeb.get_info(url_base_metodologias, \"25006612023052201\")"
   ]
  },
  {
   "cell_type": "code",
   "execution_count": 48,
   "id": "173fb136",
   "metadata": {},
   "outputs": [
    {
     "data": {
      "text/plain": [
       "{'25006612023052201': ['Examen teórico-práctico',\n",
       "  'Evaluación continua: resolución oral y escrita de casos clínicos y problemas, demostraciones prácticas en clase, adquisición de competencias actitudinales, portafolios, diarios reflexivos, etc.',\n",
       "  'Presentación, exposición y defensa de trabajos.',\n",
       "  'Evaluación de memorias de prácticas clínicas',\n",
       "  'Informes de tutores académicos y profesionales']}"
      ]
     },
     "execution_count": 48,
     "metadata": {},
     "output_type": "execute_result"
    }
   ],
   "source": [
    "variable4"
   ]
  },
  {
   "cell_type": "code",
   "execution_count": 49,
   "id": "a49df151",
   "metadata": {},
   "outputs": [
    {
     "data": {
      "text/plain": [
       "{'25006612023052201': ['Presencial: Clases Teóricas',\n",
       "  'Presencial: Clases Prácticas',\n",
       "  'Presencial: Seminarios y Talleres',\n",
       "  'Presencial: Tutorías Programadas y a demanda',\n",
       "  'Presencial: Prácticas Clínicas',\n",
       "  'Presencial: Exámenes y otras actividades de Evaluación',\n",
       "  'No presencial: Estudio personal, perfeccionamiento en habilidades y destrezas, preparación de trabajos individuales y en grupo, búsqueda y gestión autónoma de información, preparación de exámenes y otras actividades de evaluación.']}"
      ]
     },
     "execution_count": 49,
     "metadata": {},
     "output_type": "execute_result"
    }
   ],
   "source": [
    "variable5"
   ]
  },
  {
   "cell_type": "code",
   "execution_count": 50,
   "id": "cfc5b232",
   "metadata": {},
   "outputs": [
    {
     "data": {
      "text/plain": [
       "{'25006612023052201': ['Lección magistral',\n",
       "  'Estudio de casos',\n",
       "  'Estudio de problemas',\n",
       "  'Escenificación y representación de situaciones clínicas',\n",
       "  'Exposición y presentación de trabajos',\n",
       "  'Trabajo cooperativo',\n",
       "  'Demostraciones activas',\n",
       "  'Formación mediante monitores',\n",
       "  'Portafolio, diarios reflexivos y memorias de prácticas',\n",
       "  'Prácticas de disección anatómica',\n",
       "  'Debate y puesta en común',\n",
       "  'Búsqueda de información y documentación',\n",
       "  'Simulación Práctica']}"
      ]
     },
     "execution_count": 50,
     "metadata": {},
     "output_type": "execute_result"
    }
   ],
   "source": [
    "variable6"
   ]
  },
  {
   "cell_type": "markdown",
   "id": "f6de1ed2",
   "metadata": {},
   "source": [
    "#### 5. 'get_status' function"
   ]
  },
  {
   "cell_type": "code",
   "execution_count": 52,
   "id": "41096f77",
   "metadata": {},
   "outputs": [],
   "source": [
    "base_url = \"https://www.educacion.gob.es/ruct/listaestudios?codigoRama=&actual=estudios&d-1335801-p=codigotablas&codigoEstado=&buscarHistorico=N&descripcionEstudio=&codigoTipo=&codigoSubTipo=&codigoEstudio=&situacion=&ambito=&action:listaestudios=Consultar&codigoUniversidad=universidad&consulta=1\""
   ]
  },
  {
   "cell_type": "code",
   "execution_count": 60,
   "id": "4f393461",
   "metadata": {},
   "outputs": [],
   "source": [
    "variable7 = DatosWeb.get_status(base_url, \"4316264\" , \"036\", 10, \"Estado\")"
   ]
  },
  {
   "cell_type": "code",
   "execution_count": 61,
   "id": "b05d3c37",
   "metadata": {},
   "outputs": [
    {
     "data": {
      "text/plain": [
       "{'4316264': ['Publicado en B.O.E.  (TITULACIÓN RENOVADA)']}"
      ]
     },
     "execution_count": 61,
     "metadata": {},
     "output_type": "execute_result"
    }
   ],
   "source": [
    "variable7"
   ]
  },
  {
   "cell_type": "code",
   "execution_count": null,
   "id": "76ed56f9",
   "metadata": {},
   "outputs": [],
   "source": []
  },
  {
   "cell_type": "code",
   "execution_count": null,
   "id": "4cf8dd01",
   "metadata": {
    "scrolled": true
   },
   "outputs": [],
   "source": [
    "# formato base de datos\n",
    "def extract_first_level(url, id):\n",
    "    \"\"\"\n",
    "    Extracts data from the given URL and ID.\n",
    "    \n",
    "    Parameters:\n",
    "    - url (str): The URL of the webpage.\n",
    "    - id (str): The ID used in the URL.\n",
    "    \n",
    "    Returns:\n",
    "    - pd.DataFrame: A DataFrame containing the extracted data.\n",
    "    \"\"\"\n",
    "    response = requests.get(url.replace('codigoin', id), verify=False)\n",
    "    if response.status_code == 200:\n",
    "        soup = BeautifulSoup(response.text, 'html.parser')\n",
    "        elementos_nivel_1_element = soup.find('input', {'id': 'modulos_tieneModulos'})\n",
    "        if elementos_nivel_1_element:\n",
    "            elementos_nivel_1 = elementos_nivel_1_element.get('value')\n",
    "        else:\n",
    "            elementos_nivel_1 = 'No encontrado'\n",
    "\n",
    "        data = []\n",
    "        table_rows = soup.select('#modulo tbody tr')\n",
    "        for row in table_rows:\n",
    "            denominacion = row.find_all('td')[1].get_text(strip=True)\n",
    "            materia_url = row.find('a', class_='modificar')['href']\n",
    "            materia_url = \"https://www.educacion.gob.es\" + materia_url\n",
    "            materia_response = requests.get(materia_url, verify=False)\n",
    "            if materia_response.status_code == 200:\n",
    "                materia_soup = BeautifulSoup(materia_response.text, 'html.parser')\n",
    "                materia_table_rows = materia_soup.select('#materia tbody tr')\n",
    "                for materia_row in materia_table_rows:\n",
    "                    asignatura = materia_row.find_all('td')[1].get_text(strip=True)\n",
    "                    data.append({'Denominación': denominacion, 'Asignatura': asignatura})\n",
    "\n",
    "        df = pd.DataFrame(data)\n",
    "        return df\n",
    "    else:\n",
    "        print(\"Error: Unable to fetch data from the URL\")\n",
    "        return None\n",
    "\n",
    "    \n",
    "url = \"https://www.educacion.gob.es/ruct/solicitud/modulos?actual=menu.solicitud.planificacion.modulos&cod=25000302019102501\"\n",
    "id = \"2500030\"\n",
    "df = extract_first_level(url, id)\n",
    "\n",
    "df"
   ]
  },
  {
   "cell_type": "code",
   "execution_count": 24,
   "id": "3bac9991",
   "metadata": {},
   "outputs": [
    {
     "data": {
      "text/html": [
       "<div>\n",
       "<style scoped>\n",
       "    .dataframe tbody tr th:only-of-type {\n",
       "        vertical-align: middle;\n",
       "    }\n",
       "\n",
       "    .dataframe tbody tr th {\n",
       "        vertical-align: top;\n",
       "    }\n",
       "\n",
       "    .dataframe thead th {\n",
       "        text-align: right;\n",
       "    }\n",
       "</style>\n",
       "<table border=\"1\" class=\"dataframe\">\n",
       "  <thead>\n",
       "    <tr style=\"text-align: right;\">\n",
       "      <th></th>\n",
       "      <th>Denominación</th>\n",
       "      <th>Asignatura</th>\n",
       "      <th>URL</th>\n",
       "    </tr>\n",
       "  </thead>\n",
       "  <tbody>\n",
       "    <tr>\n",
       "      <th>0</th>\n",
       "      <td>Formación básica en ciencias sociales/\\ Basic ...</td>\n",
       "      <td>Introducción a la administración de empresas /...</td>\n",
       "      <td>https://www.educacion.gob.es/ruct/solicitud/da...</td>\n",
       "    </tr>\n",
       "    <tr>\n",
       "      <th>1</th>\n",
       "      <td>Formación básica en ciencias sociales/\\ Basic ...</td>\n",
       "      <td>Introducción a la economía / Introduction to e...</td>\n",
       "      <td>https://www.educacion.gob.es/ruct/solicitud/da...</td>\n",
       "    </tr>\n",
       "    <tr>\n",
       "      <th>2</th>\n",
       "      <td>Formación básica en ciencias sociales/\\ Basic ...</td>\n",
       "      <td>Introducción a la estadística / Introduction t...</td>\n",
       "      <td>https://www.educacion.gob.es/ruct/solicitud/da...</td>\n",
       "    </tr>\n",
       "    <tr>\n",
       "      <th>3</th>\n",
       "      <td>Formación básica en ciencias sociales/\\ Basic ...</td>\n",
       "      <td>Introducción al derecho / Introduction to Law</td>\n",
       "      <td>https://www.educacion.gob.es/ruct/solicitud/da...</td>\n",
       "    </tr>\n",
       "    <tr>\n",
       "      <th>4</th>\n",
       "      <td>Formación básica en ciencias sociales/\\ Basic ...</td>\n",
       "      <td>Historia económica / Economic history</td>\n",
       "      <td>https://www.educacion.gob.es/ruct/solicitud/da...</td>\n",
       "    </tr>\n",
       "    <tr>\n",
       "      <th>5</th>\n",
       "      <td>Formación básica en ciencias sociales/\\ Basic ...</td>\n",
       "      <td>Destrezas y habilidades/ Skills and abilities</td>\n",
       "      <td>https://www.educacion.gob.es/ruct/solicitud/da...</td>\n",
       "    </tr>\n",
       "  </tbody>\n",
       "</table>\n",
       "</div>"
      ],
      "text/plain": [
       "                                        Denominación  \\\n",
       "0  Formación básica en ciencias sociales/\\ Basic ...   \n",
       "1  Formación básica en ciencias sociales/\\ Basic ...   \n",
       "2  Formación básica en ciencias sociales/\\ Basic ...   \n",
       "3  Formación básica en ciencias sociales/\\ Basic ...   \n",
       "4  Formación básica en ciencias sociales/\\ Basic ...   \n",
       "5  Formación básica en ciencias sociales/\\ Basic ...   \n",
       "\n",
       "                                          Asignatura  \\\n",
       "0  Introducción a la administración de empresas /...   \n",
       "1  Introducción a la economía / Introduction to e...   \n",
       "2  Introducción a la estadística / Introduction t...   \n",
       "3      Introducción al derecho / Introduction to Law   \n",
       "4              Historia económica / Economic history   \n",
       "5      Destrezas y habilidades/ Skills and abilities   \n",
       "\n",
       "                                                 URL  \n",
       "0  https://www.educacion.gob.es/ruct/solicitud/da...  \n",
       "1  https://www.educacion.gob.es/ruct/solicitud/da...  \n",
       "2  https://www.educacion.gob.es/ruct/solicitud/da...  \n",
       "3  https://www.educacion.gob.es/ruct/solicitud/da...  \n",
       "4  https://www.educacion.gob.es/ruct/solicitud/da...  \n",
       "5  https://www.educacion.gob.es/ruct/solicitud/da...  "
      ]
     },
     "execution_count": 24,
     "metadata": {},
     "output_type": "execute_result"
    }
   ],
   "source": [
    "def extract_first_level(url, id):\n",
    "    \"\"\"\n",
    "    Extracts data from the given URL and ID.\n",
    "    \n",
    "    Parameters:\n",
    "    - url (str): The URL of the webpage.\n",
    "    - id (str): The ID used in the URL.\n",
    "    \n",
    "    Returns:\n",
    "    - pd.DataFrame: A DataFrame containing the extracted data.\n",
    "    \"\"\"\n",
    "    response = requests.get(url.replace('codigoin', id), verify=False)\n",
    "    if response.status_code == 200:\n",
    "        soup = BeautifulSoup(response.text, 'html.parser')\n",
    "        elementos_nivel_1_element = soup.find('input', {'id': 'modulos_tieneModulos'})\n",
    "        if elementos_nivel_1_element:\n",
    "            elementos_nivel_1 = elementos_nivel_1_element.get('value')\n",
    "        else:\n",
    "            elementos_nivel_1 = 'No encontrado'\n",
    "\n",
    "        data = []\n",
    "        table_rows = soup.select('#modulo tbody tr')\n",
    "        for row in table_rows:\n",
    "            denominacion = row.find_all('td')[1].get_text(strip=True)\n",
    "            materia_url = row.find('a', class_='modificar')['href']\n",
    "            materia_url = \"https://www.educacion.gob.es\" + materia_url\n",
    "            materia_response = requests.get(materia_url, verify=False)\n",
    "            if materia_response.status_code == 200:\n",
    "                materia_soup = BeautifulSoup(materia_response.text, 'html.parser')\n",
    "                materia_table_rows = materia_soup.select('#materia tbody tr')\n",
    "                for materia_row in materia_table_rows:\n",
    "                    asignatura = materia_row.find_all('td')[1].get_text(strip=True)\n",
    "                    asignatura_url = \"https://www.educacion.gob.es\" + materia_row.find('a')['href']\n",
    "                    asignatura_response = requests.get(asignatura_url, verify=False)\n",
    "                    data.append({'Denominación': denominacion, 'Asignatura': asignatura, 'URL': asignatura_url})\n",
    "\n",
    "        df = pd.DataFrame(data)\n",
    "        return df\n",
    "    else:\n",
    "        print(\"Error: Unable to fetch data from the URL\")\n",
    "        return None\n",
    "\n",
    "url = \"https://www.educacion.gob.es/ruct/solicitud/modulos?actual=menu.solicitud.planificacion.modulos&cod=25000302019102501\"\n",
    "id = \"2500030\"\n",
    "df = extract_first_level(url, id)\n",
    "\n",
    "df\n"
   ]
  },
  {
   "cell_type": "code",
   "execution_count": 35,
   "id": "9f202306",
   "metadata": {},
   "outputs": [],
   "source": [
    "import time\n",
    "\n",
    "def extract_first_level(url, id):\n",
    "    response = requests.get(url.replace('codigoin', id), verify=False)\n",
    "    \n",
    "    # ¿hay módulos de primer nivel?\n",
    "    if response.status_code == 200:\n",
    "        soup = BeautifulSoup(response.text, 'html.parser')\n",
    "        elementos_nivel_1_element = soup.find('input', {'id': 'modulos_tieneModulos'})\n",
    "        if elementos_nivel_1_element:\n",
    "            elementos_nivel_1 = elementos_nivel_1_element.get('value')\n",
    "        else:\n",
    "            elementos_nivel_1 = 'No encontrado'\n",
    "\n",
    "        table_rows = soup.select('#modulo tbody tr')\n",
    "        for row in table_rows:\n",
    "            denominacion = row.find_all('td')[1].get_text(strip=True)\n",
    "            # página con los módulos de cada denominación\n",
    "            modulo_url = row.find('a', class_='modificar')['href']\n",
    "            modulo_url = \"https://www.educacion.gob.es\" + modulo_url\n",
    "            print(modulo_url)\n",
    "            time.sleep(5)  \n",
    "            modulo_response = requests.get(modulo_url, verify=False)\n",
    "            \n",
    "            # sacamos la info del módulo\n",
    "            if modulo_response.status_code == 200:\n",
    "                modulo_soup = BeautifulSoup(modulo_response.text, 'html.parser')\n",
    "                modulo_table_rows = modulo_soup.select('#materia tbody tr')\n",
    "                \n",
    "                for modulo_row in modulo_table_rows:\n",
    "                    asignatura = modulo_row.find_all('td')[1].get_text(strip=True)\n",
    "                    # sacamos las \n",
    "                    asignatura_url = \"https://www.educacion.gob.es\" + modulo_row.find('a')['href']\n",
    "                    print(asignatura_url)\n",
    "                    \"\"\"\n",
    "                    asignatura_response = requests.get(asignatura_url, verify=False)\n",
    "                    asignatura_soup = BeautifulSoup(asignatura_response.text, 'html.parser')\n",
    "\n",
    "                    # datos modulo: carácter, ects, unidad temporal\n",
    "                    datos_materia_basicos_div = asignatura_soup.find('div', {'id': 'datosMateria_basicos'})\n",
    "                    if datos_materia_basicos_div:\n",
    "                        \n",
    "                        ects_materia_input = datos_materia_basicos_div.find('input', {'id': 'datosMateria_datosBasicos_ectsMateria'})\n",
    "                        if ects_materia_input:\n",
    "                                ects_basica = ects_materia_input['value']\n",
    "                                ects_obligatoria = 0\n",
    "                                ects_optativa = 0\n",
    "                        else:\n",
    "                                ects_basica_input = datos_materia_basicos_div.find('input', {'id': 'datosMateria_datosBasicos_ectsBasica'})\n",
    "                                ects_obligatoria_input = datos_materia_basicos_div.find('input', {'id': 'datosMateria_datosBasicos_ectsObligatoria'})\n",
    "                                ects_optativa_input = datos_materia_basicos_div.find('input', {'id': 'datosMateria_datosBasicos_ectsOptativa'})\n",
    "                                ects_basica = ects_basica_input['value'] if ects_basica_input else 0\n",
    "                                ects_obligatoria = ects_obligatoria_input['value'] if ects_obligatoria_input else 0\n",
    "                                ects_optativa = ects_optativa_input['value'] if ects_optativa_input else 0\n",
    "                            \n",
    "                        caracter_element = datos_materia_basicos_div.find('input', {'id': 'datosMateria_datosBasicos_caracter_codigo'})\n",
    "                        caracter = caracter_element.get('value','No encontrado')\n",
    "\n",
    "                        unidad_temporal_element = datos_materia_basicos_div.find('input', {'id': 'datosMateria_unidadTemporal'})\n",
    "                        unidad_temporal = unidad_temporal_element.get('value', 'No encontrado')\n",
    "                        \n",
    "                        lenguas_table = asignatura_soup.find('table', {'id': 'lengua'})\n",
    "                        if lenguas_table:\n",
    "                            lenguas = [lenguas_td.get_text(strip=True) for lenguas_td in lenguas_table.select('tbody td')]\n",
    "                            lenguas_str = ', '.join(lenguas)\n",
    "                        else:\n",
    "                            lenguas_str = 'No encontrado'\n",
    "                            \n",
    "                        asignaturas_table = asignatura_soup.find('table', {'id': 'asignatura'})\n",
    "                        if asignaturas_table:\n",
    "                            asignaturas_rows = asignaturas_table.select('tbody tr')\n",
    "                            asignaturas_data = []\n",
    "                            for row in asignaturas_rows:\n",
    "                                asignatura_id = row.find_all('td')[0].get_text(strip=True)\n",
    "                                asignatura_nombre = row.find_all('td')[1].get_text(strip=True)\n",
    "                                print(asignatura_nombre)\n",
    "                                asignatura_url = \"https://www.educacion.gob.es\" + row.find('a', class_='modificar')['href']\n",
    "                                asignaturas_data.append((asignatura_id, asignatura_nombre, asignatura_url))\n",
    "                            print(asignaturas_data)\n",
    "                        else:\n",
    "                            asignaturas_str = 'No encontrado'\n",
    "                  \"\"\"      \n",
    "\n",
    "        return \n",
    "        \n",
    "    else:\n",
    "        print(\"Error: Unable to fetch data from the URL\")\n",
    "        return None\n"
   ]
  },
  {
   "cell_type": "code",
   "execution_count": 36,
   "id": "eeecba9d",
   "metadata": {
    "scrolled": false
   },
   "outputs": [
    {
     "name": "stdout",
     "output_type": "stream",
     "text": [
      "https://www.educacion.gob.es/ruct/solicitud/datosModulo!consulta.action;jsessionid=B27802799C5BE2669114153FB08917E4?codModulo=1&actual=menu.solicitud.planificacion.materias\n",
      "https://www.educacion.gob.es/ruct/solicitud/datosModulo!consulta.action;jsessionid=B27802799C5BE2669114153FB08917E4?codModulo=2&actual=menu.solicitud.planificacion.materias\n",
      "https://www.educacion.gob.es/ruct/solicitud/datosModulo!consulta.action;jsessionid=B27802799C5BE2669114153FB08917E4?codModulo=3&actual=menu.solicitud.planificacion.materias\n",
      "https://www.educacion.gob.es/ruct/solicitud/datosMateria!consulta.action;jsessionid=B27802799C5BE2669114153FB08917E4?codModulo=3&codMateria=1&actual=menu.solicitud.planificacion.materias.datos\n",
      "https://www.educacion.gob.es/ruct/solicitud/datosMateria!consulta.action;jsessionid=B27802799C5BE2669114153FB08917E4?codModulo=3&codMateria=2&actual=menu.solicitud.planificacion.materias.datos\n",
      "https://www.educacion.gob.es/ruct/solicitud/datosMateria!consulta.action;jsessionid=B27802799C5BE2669114153FB08917E4?codModulo=3&codMateria=3&actual=menu.solicitud.planificacion.materias.datos\n",
      "https://www.educacion.gob.es/ruct/solicitud/datosMateria!consulta.action;jsessionid=B27802799C5BE2669114153FB08917E4?codModulo=3&codMateria=4&actual=menu.solicitud.planificacion.materias.datos\n",
      "https://www.educacion.gob.es/ruct/solicitud/datosModulo!consulta.action;jsessionid=B27802799C5BE2669114153FB08917E4?codModulo=4&actual=menu.solicitud.planificacion.materias\n",
      "https://www.educacion.gob.es/ruct/solicitud/datosMateria!consulta.action;jsessionid=B27802799C5BE2669114153FB08917E4?codModulo=4&codMateria=1&actual=menu.solicitud.planificacion.materias.datos\n",
      "https://www.educacion.gob.es/ruct/solicitud/datosMateria!consulta.action;jsessionid=B27802799C5BE2669114153FB08917E4?codModulo=4&codMateria=2&actual=menu.solicitud.planificacion.materias.datos\n",
      "https://www.educacion.gob.es/ruct/solicitud/datosMateria!consulta.action;jsessionid=B27802799C5BE2669114153FB08917E4?codModulo=4&codMateria=3&actual=menu.solicitud.planificacion.materias.datos\n",
      "https://www.educacion.gob.es/ruct/solicitud/datosMateria!consulta.action;jsessionid=B27802799C5BE2669114153FB08917E4?codModulo=4&codMateria=4&actual=menu.solicitud.planificacion.materias.datos\n",
      "https://www.educacion.gob.es/ruct/solicitud/datosModulo!consulta.action;jsessionid=B27802799C5BE2669114153FB08917E4?codModulo=5&actual=menu.solicitud.planificacion.materias\n",
      "https://www.educacion.gob.es/ruct/solicitud/datosMateria!consulta.action;jsessionid=B27802799C5BE2669114153FB08917E4?codModulo=5&codMateria=1&actual=menu.solicitud.planificacion.materias.datos\n",
      "https://www.educacion.gob.es/ruct/solicitud/datosMateria!consulta.action;jsessionid=B27802799C5BE2669114153FB08917E4?codModulo=5&codMateria=2&actual=menu.solicitud.planificacion.materias.datos\n"
     ]
    }
   ],
   "source": [
    "url = \"https://www.educacion.gob.es/ruct/solicitud/modulos?actual=menu.solicitud.planificacion.modulos&cod=25000302019102501\"\n",
    "id = \"2500030\"\n",
    "df = extract_first_level(url, id)\n",
    "\n",
    "df"
   ]
  },
  {
   "cell_type": "code",
   "execution_count": null,
   "id": "55305450",
   "metadata": {},
   "outputs": [],
   "source": []
  }
 ],
 "metadata": {
  "kernelspec": {
   "display_name": "Python 3 (ipykernel)",
   "language": "python",
   "name": "python3"
  },
  "language_info": {
   "codemirror_mode": {
    "name": "ipython",
    "version": 3
   },
   "file_extension": ".py",
   "mimetype": "text/x-python",
   "name": "python",
   "nbconvert_exporter": "python",
   "pygments_lexer": "ipython3",
   "version": "3.11.5"
  }
 },
 "nbformat": 4,
 "nbformat_minor": 5
}
